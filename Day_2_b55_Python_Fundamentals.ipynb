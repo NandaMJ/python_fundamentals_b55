{
 "cells": [
  {
   "cell_type": "code",
   "execution_count": 1,
   "id": "6a96a609",
   "metadata": {},
   "outputs": [],
   "source": [
    "x=2\n",
    "y=6"
   ]
  },
  {
   "cell_type": "code",
   "execution_count": 2,
   "id": "a8f1e64e",
   "metadata": {},
   "outputs": [
    {
     "data": {
      "text/plain": [
       "8"
      ]
     },
     "execution_count": 2,
     "metadata": {},
     "output_type": "execute_result"
    }
   ],
   "source": [
    "x+y"
   ]
  },
  {
   "cell_type": "code",
   "execution_count": 3,
   "id": "a306bd8b",
   "metadata": {},
   "outputs": [],
   "source": [
    "full_name = 'Nanda M J'"
   ]
  },
  {
   "cell_type": "code",
   "execution_count": 4,
   "id": "7ed85f21",
   "metadata": {},
   "outputs": [
    {
     "name": "stdout",
     "output_type": "stream",
     "text": [
      "Nanda M J\n"
     ]
    }
   ],
   "source": [
    "print(full_name)"
   ]
  },
  {
   "cell_type": "code",
   "execution_count": 5,
   "id": "b47ce670",
   "metadata": {},
   "outputs": [
    {
     "name": "stdout",
     "output_type": "stream",
     "text": [
      "Nanda\n",
      "Surya\n"
     ]
    }
   ],
   "source": [
    "name1 = 'Nanda'\n",
    "name2 = 'Surya'\n",
    "print(name1)\n",
    "print(name2)\n"
   ]
  },
  {
   "cell_type": "code",
   "execution_count": 6,
   "id": "31f07930",
   "metadata": {},
   "outputs": [],
   "source": [
    "# Hash can be used for commenting a line in Python."
   ]
  },
  {
   "cell_type": "code",
   "execution_count": 7,
   "id": "e0f72aa8",
   "metadata": {},
   "outputs": [],
   "source": [
    "# we can declare strings in 3 methods."
   ]
  },
  {
   "cell_type": "code",
   "execution_count": 8,
   "id": "716ee712",
   "metadata": {},
   "outputs": [
    {
     "name": "stdout",
     "output_type": "stream",
     "text": [
      "Nanda\n",
      "Surya\n",
      "Python\n"
     ]
    }
   ],
   "source": [
    "name_1 = 'Nanda'\n",
    "name_2 = \"Surya\"\n",
    "name_3 = \"\"\"Python\"\"\"\n",
    "print(name_1)\n",
    "print(name_2)\n",
    "print(name_3)"
   ]
  },
  {
   "cell_type": "code",
   "execution_count": 10,
   "id": "1845d949",
   "metadata": {},
   "outputs": [
    {
     "name": "stdout",
     "output_type": "stream",
     "text": [
      "7\n",
      "3\n",
      "10\n",
      "2.5\n",
      "1\n"
     ]
    }
   ],
   "source": [
    "a = 5\n",
    "b = 2\n",
    "print(a+b)\n",
    "print(a-b)\n",
    "print(a*b)\n",
    "print(a/b)\n",
    "print(a%b)"
   ]
  },
  {
   "cell_type": "code",
   "execution_count": null,
   "id": "bc9a597c",
   "metadata": {},
   "outputs": [],
   "source": []
  },
  {
   "cell_type": "code",
   "execution_count": null,
   "id": "33eb2419",
   "metadata": {},
   "outputs": [],
   "source": []
  },
  {
   "cell_type": "code",
   "execution_count": null,
   "id": "224be95e",
   "metadata": {},
   "outputs": [],
   "source": []
  },
  {
   "cell_type": "code",
   "execution_count": null,
   "id": "dc386c30",
   "metadata": {},
   "outputs": [],
   "source": []
  },
  {
   "cell_type": "code",
   "execution_count": null,
   "id": "35fc0a2a",
   "metadata": {},
   "outputs": [],
   "source": []
  }
 ],
 "metadata": {
  "kernelspec": {
   "display_name": "Python 3 (ipykernel)",
   "language": "python",
   "name": "python3"
  },
  "language_info": {
   "codemirror_mode": {
    "name": "ipython",
    "version": 3
   },
   "file_extension": ".py",
   "mimetype": "text/x-python",
   "name": "python",
   "nbconvert_exporter": "python",
   "pygments_lexer": "ipython3",
   "version": "3.9.7"
  }
 },
 "nbformat": 4,
 "nbformat_minor": 5
}
