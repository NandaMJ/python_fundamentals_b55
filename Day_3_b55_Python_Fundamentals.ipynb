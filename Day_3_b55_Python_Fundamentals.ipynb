{
 "cells": [
  {
   "cell_type": "code",
   "execution_count": 1,
   "id": "5777f98d",
   "metadata": {},
   "outputs": [
    {
     "name": "stdout",
     "output_type": "stream",
     "text": [
      "Nanda\n"
     ]
    }
   ],
   "source": [
    "Name = 'Nanda'\n",
    "print(Name)"
   ]
  },
  {
   "cell_type": "code",
   "execution_count": 2,
   "id": "fe0824f4",
   "metadata": {},
   "outputs": [
    {
     "data": {
      "text/plain": [
       "str"
      ]
     },
     "execution_count": 2,
     "metadata": {},
     "output_type": "execute_result"
    }
   ],
   "source": [
    "type(Name)"
   ]
  },
  {
   "cell_type": "code",
   "execution_count": null,
   "id": "cfbc1f89",
   "metadata": {},
   "outputs": [],
   "source": [
    "#type() can be used to get the variable type"
   ]
  },
  {
   "cell_type": "code",
   "execution_count": 3,
   "id": "0d8910af",
   "metadata": {},
   "outputs": [
    {
     "name": "stdout",
     "output_type": "stream",
     "text": [
      "harish kumar\n"
     ]
    }
   ],
   "source": [
    "fullname = 'harish kumar'\n",
    "print(fullname)"
   ]
  },
  {
   "cell_type": "code",
   "execution_count": 4,
   "id": "055b3823",
   "metadata": {},
   "outputs": [
    {
     "name": "stdout",
     "output_type": "stream",
     "text": [
      "Harish Kumar\n"
     ]
    }
   ],
   "source": [
    "print(fullname.title())"
   ]
  },
  {
   "cell_type": "code",
   "execution_count": 10,
   "id": "216d2c46",
   "metadata": {},
   "outputs": [],
   "source": [
    "note = f\"{fullname.title()} is an intelligent person\""
   ]
  },
  {
   "cell_type": "code",
   "execution_count": 11,
   "id": "4fd856b3",
   "metadata": {},
   "outputs": [
    {
     "name": "stdout",
     "output_type": "stream",
     "text": [
      "Harish Kumar is an intelligent person\n"
     ]
    }
   ],
   "source": [
    "print(note)"
   ]
  },
  {
   "cell_type": "code",
   "execution_count": 12,
   "id": "d38d748c",
   "metadata": {},
   "outputs": [
    {
     "name": "stdout",
     "output_type": "stream",
     "text": [
      "Harish Kumar Is An Intelligent Person\n"
     ]
    }
   ],
   "source": [
    "print(note.title())"
   ]
  },
  {
   "cell_type": "code",
   "execution_count": 14,
   "id": "d8fae730",
   "metadata": {},
   "outputs": [
    {
     "name": "stdout",
     "output_type": "stream",
     "text": [
      "fruits :\n",
      "Apple\n",
      "Orange\n",
      "Grapes\n",
      "\n"
     ]
    }
   ],
   "source": [
    "print('fruits :\\nApple\\nOrange\\nGrapes\\n')     "
   ]
  },
  {
   "cell_type": "code",
   "execution_count": 15,
   "id": "40f96f84",
   "metadata": {},
   "outputs": [
    {
     "name": "stdout",
     "output_type": "stream",
     "text": [
      "Fruits :\n",
      "\tApple\n",
      "\tOrange\n",
      "\tGrapes\n",
      "\n"
     ]
    }
   ],
   "source": [
    "print('Fruits :\\n\\tApple\\n\\tOrange\\n\\tGrapes\\n')"
   ]
  },
  {
   "cell_type": "code",
   "execution_count": null,
   "id": "89c7ee4e",
   "metadata": {},
   "outputs": [],
   "source": [
    "# \\n -> new line delimiter\n",
    "# \\t -> tab delimiter"
   ]
  },
  {
   "cell_type": "code",
   "execution_count": 16,
   "id": "61f9f63c",
   "metadata": {},
   "outputs": [],
   "source": [
    "name1 = 'Strings'\n",
    "name2 = '    Strings'\n",
    "name3 = 'Strings    '\n",
    "name4 = '  Strings '"
   ]
  },
  {
   "cell_type": "code",
   "execution_count": 17,
   "id": "40380242",
   "metadata": {},
   "outputs": [
    {
     "name": "stdout",
     "output_type": "stream",
     "text": [
      "Strings\n",
      "    Strings\n",
      "Strings    \n",
      "  Strings \n"
     ]
    }
   ],
   "source": [
    "print(name1)\n",
    "print(name2)\n",
    "print(name3)\n",
    "print(name4)"
   ]
  },
  {
   "cell_type": "code",
   "execution_count": 18,
   "id": "e7af75e1",
   "metadata": {},
   "outputs": [
    {
     "name": "stdout",
     "output_type": "stream",
     "text": [
      "Strings\n"
     ]
    }
   ],
   "source": [
    "print(name2.lstrip())"
   ]
  },
  {
   "cell_type": "code",
   "execution_count": 19,
   "id": "930f6888",
   "metadata": {},
   "outputs": [
    {
     "name": "stdout",
     "output_type": "stream",
     "text": [
      "    Strings\n",
      "Strings\n",
      "Strings\n"
     ]
    }
   ],
   "source": [
    "print(name2)\n",
    "print(name2.lstrip())\n",
    "print(name2.strip())"
   ]
  },
  {
   "cell_type": "code",
   "execution_count": 21,
   "id": "7054b091",
   "metadata": {},
   "outputs": [
    {
     "name": "stdout",
     "output_type": "stream",
     "text": [
      "Strings    \n",
      "Strings\n",
      "Strings\n"
     ]
    }
   ],
   "source": [
    "print(name3)\n",
    "print(name3.rstrip())\n",
    "print(name3.strip())"
   ]
  },
  {
   "cell_type": "code",
   "execution_count": 22,
   "id": "00409af3",
   "metadata": {},
   "outputs": [
    {
     "name": "stdout",
     "output_type": "stream",
     "text": [
      "  Strings \n",
      "Strings\n"
     ]
    }
   ],
   "source": [
    "print(name4)\n",
    "print(name4.strip())"
   ]
  },
  {
   "cell_type": "code",
   "execution_count": null,
   "id": "fddde5e9",
   "metadata": {},
   "outputs": [],
   "source": []
  }
 ],
 "metadata": {
  "kernelspec": {
   "display_name": "Python 3 (ipykernel)",
   "language": "python",
   "name": "python3"
  },
  "language_info": {
   "codemirror_mode": {
    "name": "ipython",
    "version": 3
   },
   "file_extension": ".py",
   "mimetype": "text/x-python",
   "name": "python",
   "nbconvert_exporter": "python",
   "pygments_lexer": "ipython3",
   "version": "3.9.7"
  }
 },
 "nbformat": 4,
 "nbformat_minor": 5
}
